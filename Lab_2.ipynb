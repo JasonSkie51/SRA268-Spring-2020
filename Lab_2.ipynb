{
  "nbformat": 4,
  "nbformat_minor": 0,
  "metadata": {
    "colab": {
      "name": "Lab 2",
      "provenance": []
    },
    "kernelspec": {
      "name": "python3",
      "display_name": "Python 3"
    }
  },
  "cells": [
    {
      "cell_type": "markdown",
      "metadata": {
        "id": "6sOc4Uyr4U-Z",
        "colab_type": "text"
      },
      "source": [
        "## Graph Types"
      ]
    },
    {
      "cell_type": "markdown",
      "metadata": {
        "id": "0zZdVLAd5CYr",
        "colab_type": "text"
      },
      "source": [
        "**Creator**\n",
        "* Jason Susnoskie"
      ]
    },
    {
      "cell_type": "markdown",
      "metadata": {
        "id": "g-r6Clq45Hn4",
        "colab_type": "text"
      },
      "source": [
        "### Deviation\n",
        "\n",
        "\n",
        "\n",
        "\n",
        "\n",
        "\n",
        "\n",
        "\n",
        "\n",
        "\n",
        "\n",
        "\n",
        "\n",
        "\n",
        "\n",
        "\n",
        "\n",
        "\n",
        "\n",
        "\n"
      ]
    },
    {
      "cell_type": "markdown",
      "metadata": {
        "colab_type": "text",
        "id": "aBAjkmiGmlcf"
      },
      "source": [
        "![alt text](https://raw.githubusercontent.com/JasonSkie51/SRA268-Spring-2020/master/deviation.png)"
      ]
    },
    {
      "cell_type": "markdown",
      "metadata": {
        "id": "w6bZ_NEi7E3w",
        "colab_type": "text"
      },
      "source": [
        "#### What is this telling us?"
      ]
    },
    {
      "cell_type": "markdown",
      "metadata": {
        "id": "95L-spaC7QHF",
        "colab_type": "text"
      },
      "source": [
        "This visual of the deviation graph shows us both the total number of winning and losing points per the given day of the week. This particular deviation is represented by a Spine graph where it splits the amount of points scored on that specific day of the week into winning and losing categories with emphases variation using a fixed point of 0. Based off of the graph, we can see that there are obviously more points on the winning side because that is what makes it a win, but that can be seen as represented by the scale of points being a little greater for the win side. The colors make the graph easy to read since red is associated with losing and green is associated with winning. "
      ]
    },
    {
      "cell_type": "markdown",
      "metadata": {
        "id": "YgXyXjmz7cDP",
        "colab_type": "text"
      },
      "source": [
        "### Correlation\n"
      ]
    },
    {
      "cell_type": "markdown",
      "metadata": {
        "id": "SGx15rZq7hvt",
        "colab_type": "text"
      },
      "source": [
        "![alt text](https://raw.githubusercontent.com/JasonSkie51/SRA268-Spring-2020/master/correlation.png)\n",
        "\n"
      ]
    },
    {
      "cell_type": "markdown",
      "metadata": {
        "id": "dljjONNi7jmj",
        "colab_type": "text"
      },
      "source": [
        "#### What is this telling us?"
      ]
    },
    {
      "cell_type": "markdown",
      "metadata": {
        "id": "PwZEZrFB7laG",
        "colab_type": "text"
      },
      "source": [
        "This correlation visual is representing the relationship between the year and the average points per win categorized by region. This scatterplot makes it easy to visualize each region's average amount of points per win per year by the colors used to represent each region. This scatterplot is the standard way to show the relationship between the two continuous variables each of which has its own axis. This particular graph shows the years 1985 through 2017 and the range of the average scores is from 61.82 to 91.59. Ironically this comes from the same region, Z, so this visual makes it easy to see how one year a region could be the worst in the league and four years later it can be the best. "
      ]
    },
    {
      "cell_type": "markdown",
      "metadata": {
        "id": "MqUdI-uL7r2s",
        "colab_type": "text"
      },
      "source": [
        "### Ranking\n"
      ]
    },
    {
      "cell_type": "markdown",
      "metadata": {
        "id": "AvlxCOVt7x9F",
        "colab_type": "text"
      },
      "source": [
        "![alt text](https://raw.githubusercontent.com/JasonSkie51/SRA268-Spring-2020/master/ranking%20updated.png\n",
        ")"
      ]
    },
    {
      "cell_type": "markdown",
      "metadata": {
        "id": "lCAYtfza7yTq",
        "colab_type": "text"
      },
      "source": [
        "#### What is this telling us?"
      ]
    },
    {
      "cell_type": "markdown",
      "metadata": {
        "id": "MyuciD277ygU",
        "colab_type": "text"
      },
      "source": [
        "This ranking highlights the positioning of the data relative to one another. In this visual the number of overtimes are recorded from the past decade. They are then ranked in order from least at the bottom to greatest at the top. An ordered bar chart makes this representation easy to visualize what year contained the most overtimes. The amount of overtime ranges from 1-8 in the past ten years. The use of color weighting also makes this visual representation more appealing because you can see when there is more overtimes, the weighting of the color gets thicker whereas if there is less overtimes then the weighting is brighter and less dense. \n",
        "\n"
      ]
    },
    {
      "cell_type": "markdown",
      "metadata": {
        "id": "dGDGl8-G7y8Y",
        "colab_type": "text"
      },
      "source": [
        "### Distribution\n"
      ]
    },
    {
      "cell_type": "markdown",
      "metadata": {
        "id": "FB0uV-jy76p9",
        "colab_type": "text"
      },
      "source": [
        "![alt text](https://raw.githubusercontent.com/JasonSkie51/SRA268-Spring-2020/master/distribution.png\n",
        ")"
      ]
    },
    {
      "cell_type": "markdown",
      "metadata": {
        "id": "_6SOzhrQ76zH",
        "colab_type": "text"
      },
      "source": [
        "#### What is this telling us?"
      ]
    },
    {
      "cell_type": "markdown",
      "metadata": {
        "id": "HBWqsS_g767h",
        "colab_type": "text"
      },
      "source": [
        "This histogram is the standard way to show the statistical distribution where someone can visually see the gaps between columns to highlight the difference in the shape of the data. This particular distribution measures the number of wins in relation to what see achieved that win. As expected the histogram is right skewed because the higher seeds should have more wins than the lower seeds. This graph accurately represents the reality of the tournament and displays how a team should strive to be a higher seed entering the tournament because they will likely play lower ranked teams and earn more wins. "
      ]
    },
    {
      "cell_type": "markdown",
      "metadata": {
        "id": "wQsDThk677Fy",
        "colab_type": "text"
      },
      "source": [
        "### Change over Time\n"
      ]
    },
    {
      "cell_type": "markdown",
      "metadata": {
        "id": "Z1j_YLOA7_OK",
        "colab_type": "text"
      },
      "source": [
        "![alt text](https://raw.githubusercontent.com/JasonSkie51/SRA268-Spring-2020/master/change%20in%20time.png)"
      ]
    },
    {
      "cell_type": "markdown",
      "metadata": {
        "id": "mpfsmmgi7_Vj",
        "colab_type": "text"
      },
      "source": [
        "#### What is this telling us?"
      ]
    },
    {
      "cell_type": "markdown",
      "metadata": {
        "id": "rYLXoMMO7_di",
        "colab_type": "text"
      },
      "source": [
        "This change over time graph shows the trend of the data over time. In this visual time is in chronological order which makes it easy to see if there is any irregular data. In this particular graph, a blue and yellow color scheme was used to illustrate the points where the data is higher or lower since the range of the data is only from 68 to 85. All years from 1985 to 2017 were recorded continuously. For this particular data set it is easy to see that the average points per win has consistently stayed in the a range of 10 between 70 and 80. Really the only exception to this is from 1986 to 1994."
      ]
    },
    {
      "cell_type": "markdown",
      "metadata": {
        "id": "lFwiHoE-7_jZ",
        "colab_type": "text"
      },
      "source": [
        "### Magnitude\n"
      ]
    },
    {
      "cell_type": "markdown",
      "metadata": {
        "id": "ICQFnXj78EbF",
        "colab_type": "text"
      },
      "source": [
        "![alt text](https://raw.githubusercontent.com/JasonSkie51/SRA268-Spring-2020/master/magnitude.png)"
      ]
    },
    {
      "cell_type": "markdown",
      "metadata": {
        "id": "QGG7XYG88Eii",
        "colab_type": "text"
      },
      "source": [
        "#### What is this telling us?"
      ]
    },
    {
      "cell_type": "markdown",
      "metadata": {
        "id": "VS7uGa0l8Eos",
        "colab_type": "text"
      },
      "source": [
        "The magnitude bar graph shows the data “binned” representing the average points per win of the top ten winningest programs of the NCAA tournament from 1985 to 2017. As represented in the graph, we can see the top ten winningest programs and the magnitude of the score they usually win by. This visual can help other teams predict how much they will need to score against any of these opponents in order to beat them. The color gradient for this graph was a yellow to green gradient in order to get a better visual for the team that are on the graph of how safe they are with the average amount of points they score. The higher the number of points they score, the darker their shade of green is. "
      ]
    },
    {
      "cell_type": "markdown",
      "metadata": {
        "id": "bEKFxP8R8Evk",
        "colab_type": "text"
      },
      "source": [
        "### Part-to-Whole\n"
      ]
    },
    {
      "cell_type": "markdown",
      "metadata": {
        "id": "WFHlcYKV8E35",
        "colab_type": "text"
      },
      "source": [
        "![alt text](https://raw.githubusercontent.com/JasonSkie51/SRA268-Spring-2020/master/ptw.png)"
      ]
    },
    {
      "cell_type": "markdown",
      "metadata": {
        "id": "PNSd3wlp8UZH",
        "colab_type": "text"
      },
      "source": [
        "#### What is this telling us?"
      ]
    },
    {
      "cell_type": "markdown",
      "metadata": {
        "id": "y9tb_QRA8aqt",
        "colab_type": "text"
      },
      "source": [
        "The part to whole graph depicts the single entities combined to form a complete comparative picture. This particular pie chart shows the percentage of wins for each region and each region is a different color. On top of that it shows the average amount of points those regions had when they won in the tournament. It is interesting that the region with the most wins is not the team with the highest amount of average points scored. While it is within point, region X comes in first for amount of wins but second for average points scored in those wins. "
      ]
    }
  ]
}