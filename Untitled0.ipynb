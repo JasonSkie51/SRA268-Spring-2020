{
  "nbformat": 4,
  "nbformat_minor": 0,
  "metadata": {
    "colab": {
      "name": "Untitled0.ipynb",
      "provenance": []
    },
    "kernelspec": {
      "name": "python3",
      "display_name": "Python 3"
    }
  },
  "cells": [
    {
      "cell_type": "markdown",
      "metadata": {
        "id": "UZy8cJ3cGOcN",
        "colab_type": "text"
      },
      "source": [
        "# Title"
      ]
    },
    {
      "cell_type": "markdown",
      "metadata": {
        "id": "Mb3qDOYLGaM7",
        "colab_type": "text"
      },
      "source": [
        "Weather in State College, PA \n",
        "By: Jason Susnoskie"
      ]
    },
    {
      "cell_type": "markdown",
      "metadata": {
        "id": "plNKvjPtGO3u",
        "colab_type": "text"
      },
      "source": [
        "# Description"
      ]
    },
    {
      "cell_type": "markdown",
      "metadata": {
        "id": "ohbjU4x1GduU",
        "colab_type": "text"
      },
      "source": [
        "I chose this topic because I was interested in seeing what the MAX temperature was on the first day of each month for the past three years in State College Pennsylvania. I was also looking to see if there is any relation to claims of global warming and if the Max temperatures represented that as time goes on. "
      ]
    },
    {
      "cell_type": "markdown",
      "metadata": {
        "id": "a8G4tyJpGPcQ",
        "colab_type": "text"
      },
      "source": [
        "# Graph"
      ]
    },
    {
      "cell_type": "markdown",
      "metadata": {
        "id": "hd_nUX1AQvz2",
        "colab_type": "text"
      },
      "source": [
        "![sketch](https://raw.githubusercontent.com/JasonSkie51/SRA268-Spring-2020/master/Screen%20Shot%202020-01-19%20at%207.02.20%20PM.jpg)"
      ]
    },
    {
      "cell_type": "markdown",
      "metadata": {
        "id": "E2aWduNbGQFN",
        "colab_type": "text"
      },
      "source": [
        "# Conclusion"
      ]
    },
    {
      "cell_type": "markdown",
      "metadata": {
        "id": "F1OUMBvhSsfQ",
        "colab_type": "text"
      },
      "source": [
        "I found that the max temperatures throughout the past three  years were very similar on the first day of the month. However, I did not really see a correlation between the max temperatures and global warming because some of the 2019 max temperatures in State College were lower than the previous two years."
      ]
    }
  ]
}